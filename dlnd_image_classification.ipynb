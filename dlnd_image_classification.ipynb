{
 "cells": [
  {
   "cell_type": "markdown",
   "metadata": {
    "collapsed": true,
    "deletable": true,
    "editable": true
   },
   "source": [
    "# Image Classification\n",
    "In this project, you'll classify images from the [CIFAR-10 dataset](https://www.cs.toronto.edu/~kriz/cifar.html).  The dataset consists of airplanes, dogs, cats, and other objects. You'll preprocess the images, then train a convolutional neural network on all the samples. The images need to be normalized and the labels need to be one-hot encoded.  You'll get to apply what you learned and build a convolutional, max pooling, dropout, and fully connected layers.  At the end, you'll get to see your neural network's predictions on the sample images.\n",
    "## Get the Data\n",
    "Run the following cell to download the [CIFAR-10 dataset for python](https://www.cs.toronto.edu/~kriz/cifar-10-python.tar.gz)."
   ]
  },
  {
   "cell_type": "code",
   "execution_count": 1,
   "metadata": {
    "collapsed": false,
    "deletable": true,
    "editable": true
   },
   "outputs": [
    {
     "name": "stdout",
     "output_type": "stream",
     "text": [
      "All files found!\n"
     ]
    }
   ],
   "source": [
    "\"\"\"\n",
    "DON'T MODIFY ANYTHING IN THIS CELL THAT IS BELOW THIS LINE\n",
    "\"\"\"\n",
    "from urllib.request import urlretrieve\n",
    "from os.path import isfile, isdir\n",
    "from tqdm import tqdm\n",
    "import problem_unittests as tests\n",
    "import tarfile\n",
    "\n",
    "cifar10_dataset_folder_path = 'cifar-10-batches-py'\n",
    "\n",
    "class DLProgress(tqdm):\n",
    "    last_block = 0\n",
    "\n",
    "    def hook(self, block_num=1, block_size=1, total_size=None):\n",
    "        self.total = total_size\n",
    "        self.update((block_num - self.last_block) * block_size)\n",
    "        self.last_block = block_num\n",
    "\n",
    "if not isfile('cifar-10-python.tar.gz'):\n",
    "    with DLProgress(unit='B', unit_scale=True, miniters=1, desc='CIFAR-10 Dataset') as pbar:\n",
    "        urlretrieve(\n",
    "            'https://www.cs.toronto.edu/~kriz/cifar-10-python.tar.gz',\n",
    "            'cifar-10-python.tar.gz',\n",
    "            pbar.hook)\n",
    "\n",
    "if not isdir(cifar10_dataset_folder_path):\n",
    "    with tarfile.open('cifar-10-python.tar.gz') as tar:\n",
    "        tar.extractall()\n",
    "        tar.close()\n",
    "\n",
    "\n",
    "tests.test_folder_path(cifar10_dataset_folder_path)"
   ]
  },
  {
   "cell_type": "markdown",
   "metadata": {
    "deletable": true,
    "editable": true
   },
   "source": [
    "## Explore the Data\n",
    "The dataset is broken into batches to prevent your machine from running out of memory.  The CIFAR-10 dataset consists of 5 batches, named `data_batch_1`, `data_batch_2`, etc.. Each batch contains the labels and images that are one of the following:\n",
    "* airplane\n",
    "* automobile\n",
    "* bird\n",
    "* cat\n",
    "* deer\n",
    "* dog\n",
    "* frog\n",
    "* horse\n",
    "* ship\n",
    "* truck\n",
    "\n",
    "Understanding a dataset is part of making predictions on the data.  Play around with the code cell below by changing the `batch_id` and `sample_id`. The `batch_id` is the id for a batch (1-5). The `sample_id` is the id for a image and label pair in the batch.\n",
    "\n",
    "Ask yourself \"What are all possible labels?\", \"What is the range of values for the image data?\", \"Are the labels in order or random?\".  Answers to questions like these will help you preprocess the data and end up with better predictions."
   ]
  },
  {
   "cell_type": "code",
   "execution_count": 2,
   "metadata": {
    "collapsed": false,
    "deletable": true,
    "editable": true
   },
   "outputs": [
    {
     "name": "stdout",
     "output_type": "stream",
     "text": [
      "\n",
      "Stats of batch 1:\n",
      "Samples: 10000\n",
      "Label Counts: {0: 1005, 1: 974, 2: 1032, 3: 1016, 4: 999, 5: 937, 6: 1030, 7: 1001, 8: 1025, 9: 981}\n",
      "First 20 Labels: [6, 9, 9, 4, 1, 1, 2, 7, 8, 3, 4, 7, 7, 2, 9, 9, 9, 3, 2, 6]\n",
      "\n",
      "Example of Image 1:\n",
      "Image - Min Value: 5 Max Value: 254\n",
      "Image - Shape: (32, 32, 3)\n",
      "Label - Label Id: 9 Name: truck\n"
     ]
    },
    {
     "data": {
      "image/png": "iVBORw0KGgoAAAANSUhEUgAAAfoAAAH0CAYAAADVH+85AAAABHNCSVQICAgIfAhkiAAAAAlwSFlz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\nRK5CYII=\n",
      "text/plain": [
       "<matplotlib.figure.Figure at 0x7fbd6550fac8>"
      ]
     },
     "metadata": {
      "image/png": {
       "height": 250,
       "width": 253
      }
     },
     "output_type": "display_data"
    }
   ],
   "source": [
    "%matplotlib inline\n",
    "%config InlineBackend.figure_format = 'retina'\n",
    "\n",
    "import helper\n",
    "import numpy as np\n",
    "\n",
    "# Explore the dataset\n",
    "batch_id = 1\n",
    "sample_id = 1\n",
    "helper.display_stats(cifar10_dataset_folder_path, batch_id, sample_id)"
   ]
  },
  {
   "cell_type": "markdown",
   "metadata": {
    "deletable": true,
    "editable": true
   },
   "source": [
    "## Implement Preprocess Functions\n",
    "### Normalize\n",
    "In the cell below, implement the `normalize` function to take in image data, `x`, and return it as a normalized Numpy array. The values should be in the range of 0 to 1, inclusive.  The return object should be the same shape as `x`."
   ]
  },
  {
   "cell_type": "code",
   "execution_count": 3,
   "metadata": {
    "collapsed": false,
    "deletable": true,
    "editable": true
   },
   "outputs": [
    {
     "name": "stdout",
     "output_type": "stream",
     "text": [
      "Tests Passed\n"
     ]
    }
   ],
   "source": [
    "def normalize(x):\n",
    "    \"\"\"\n",
    "    Normalize a list of sample image data in the range of 0 to 1\n",
    "    : x: List of image data.  The image shape is (32, 32, 3)\n",
    "    : return: Numpy array of normalize data\n",
    "    \"\"\"\n",
    "    # TODO: Implement Function\n",
    "    res = np.array(x, ndmin=3)\n",
    "    res_normed = res / res.max(axis=0)\n",
    "    #print (res_normed.shape)\n",
    "    return res_normed\n",
    "\n",
    "\n",
    "\"\"\"\n",
    "DON'T MODIFY ANYTHING IN THIS CELL THAT IS BELOW THIS LINE\n",
    "\"\"\"\n",
    "tests.test_normalize(normalize)"
   ]
  },
  {
   "cell_type": "markdown",
   "metadata": {
    "deletable": true,
    "editable": true
   },
   "source": [
    "### One-hot encode\n",
    "Just like the previous code cell, you'll be implementing a function for preprocessing.  This time, you'll implement the `one_hot_encode` function. The input, `x`, are a list of labels.  Implement the function to return the list of labels as One-Hot encoded Numpy array.  The possible values for labels are 0 to 9. The one-hot encoding function should return the same encoding for each value between each call to `one_hot_encode`.  Make sure to save the map of encodings outside the function.\n",
    "\n",
    "Hint: Don't reinvent the wheel."
   ]
  },
  {
   "cell_type": "code",
   "execution_count": 4,
   "metadata": {
    "collapsed": false,
    "deletable": true,
    "editable": true
   },
   "outputs": [
    {
     "name": "stdout",
     "output_type": "stream",
     "text": [
      "Tests Passed\n"
     ]
    }
   ],
   "source": [
    "def one_hot_encode(x):\n",
    "    \"\"\"\n",
    "    One hot encode a list of sample labels. Return a one-hot encoded vector for each label.\n",
    "    : x: List of sample Labels\n",
    "    : return: Numpy array of one-hot encoded labels\n",
    "    \"\"\"\n",
    "    # TODO: Implement Function\n",
    "    x_vec = []\n",
    "    for i in x:\n",
    "        vec = [0] * 10\n",
    "        vec[i] = 1\n",
    "        x_vec.append(vec)\n",
    "    res = np.array(x_vec, ndmin=2)\n",
    "    return res\n",
    "\n",
    "\n",
    "\"\"\"\n",
    "DON'T MODIFY ANYTHING IN THIS CELL THAT IS BELOW THIS LINE\n",
    "\"\"\"\n",
    "tests.test_one_hot_encode(one_hot_encode)"
   ]
  },
  {
   "cell_type": "markdown",
   "metadata": {
    "deletable": true,
    "editable": true
   },
   "source": [
    "### Randomize Data\n",
    "As you saw from exploring the data above, the order of the samples are randomized.  It doesn't hurt to randomize it again, but you don't need to for this dataset."
   ]
  },
  {
   "cell_type": "markdown",
   "metadata": {
    "deletable": true,
    "editable": true
   },
   "source": [
    "## Preprocess all the data and save it\n",
    "Running the code cell below will preprocess all the CIFAR-10 data and save it to file. The code below also uses 10% of the training data for validation."
   ]
  },
  {
   "cell_type": "code",
   "execution_count": 5,
   "metadata": {
    "collapsed": false,
    "deletable": true,
    "editable": true
   },
   "outputs": [],
   "source": [
    "\"\"\"\n",
    "DON'T MODIFY ANYTHING IN THIS CELL\n",
    "\"\"\"\n",
    "# Preprocess Training, Validation, and Testing Data\n",
    "helper.preprocess_and_save_data(cifar10_dataset_folder_path, normalize, one_hot_encode)"
   ]
  },
  {
   "cell_type": "markdown",
   "metadata": {
    "deletable": true,
    "editable": true
   },
   "source": [
    "# Check Point\n",
    "This is your first checkpoint.  If you ever decide to come back to this notebook or have to restart the notebook, you can start from here.  The preprocessed data has been saved to disk."
   ]
  },
  {
   "cell_type": "code",
<<<<<<< HEAD
   "execution_count": 1,
=======
   "execution_count": 6,
>>>>>>> 5f683f794f52c7084a4bc50d110a5c9993d265d3
   "metadata": {
    "collapsed": true,
    "deletable": true,
    "editable": true
   },
   "outputs": [],
   "source": [
    "\"\"\"\n",
    "DON'T MODIFY ANYTHING IN THIS CELL\n",
    "\"\"\"\n",
    "import pickle\n",
    "import problem_unittests as tests\n",
    "import helper\n",
    "\n",
    "# Load the Preprocessed Validation data\n",
    "valid_features, valid_labels = pickle.load(open('preprocess_validation.p', mode='rb'))"
   ]
  },
  {
   "cell_type": "markdown",
   "metadata": {
    "deletable": true,
    "editable": true
   },
   "source": [
    "## Build the network\n",
    "For the neural network, you'll build each layer into a function.  Most of the code you've seen has been outside of functions. To test your code more thoroughly, we require that you put each layer in a function.  This allows us to give you better feedback and test for simple mistakes using our unittests before you submit your project.\n",
    "\n",
    ">**Note:** If you're finding it hard to dedicate enough time for this course each week, we've provided a small shortcut to this part of the project. In the next couple of problems, you'll have the option to use classes from the [TensorFlow Layers](https://www.tensorflow.org/api_docs/python/tf/layers) or [TensorFlow Layers (contrib)](https://www.tensorflow.org/api_guides/python/contrib.layers) packages to build each layer, except the layers you build in the \"Convolutional and Max Pooling Layer\" section.  TF Layers is similar to Keras's and TFLearn's abstraction to layers, so it's easy to pickup.\n",
    "\n",
    ">However, if you would like to get the most out of this course, try to solve all the problems _without_ using anything from the TF Layers packages. You **can** still use classes from other packages that happen to have the same name as ones you find in TF Layers! For example, instead of using the TF Layers version of the `conv2d` class, [tf.layers.conv2d](https://www.tensorflow.org/api_docs/python/tf/layers/conv2d), you would want to use the TF Neural Network version of `conv2d`, [tf.nn.conv2d](https://www.tensorflow.org/api_docs/python/tf/nn/conv2d). \n",
    "\n",
    "Let's begin!\n",
    "\n",
    "### Input\n",
    "The neural network needs to read the image data, one-hot encoded labels, and dropout keep probability. Implement the following functions\n",
    "* Implement `neural_net_image_input`\n",
    " * Return a [TF Placeholder](https://www.tensorflow.org/api_docs/python/tf/placeholder)\n",
    " * Set the shape using `image_shape` with batch size set to `None`.\n",
    " * Name the TensorFlow placeholder \"x\" using the TensorFlow `name` parameter in the [TF Placeholder](https://www.tensorflow.org/api_docs/python/tf/placeholder).\n",
    "* Implement `neural_net_label_input`\n",
    " * Return a [TF Placeholder](https://www.tensorflow.org/api_docs/python/tf/placeholder)\n",
    " * Set the shape using `n_classes` with batch size set to `None`.\n",
    " * Name the TensorFlow placeholder \"y\" using the TensorFlow `name` parameter in the [TF Placeholder](https://www.tensorflow.org/api_docs/python/tf/placeholder).\n",
    "* Implement `neural_net_keep_prob_input`\n",
    " * Return a [TF Placeholder](https://www.tensorflow.org/api_docs/python/tf/placeholder) for dropout keep probability.\n",
    " * Name the TensorFlow placeholder \"keep_prob\" using the TensorFlow `name` parameter in the [TF Placeholder](https://www.tensorflow.org/api_docs/python/tf/placeholder).\n",
    "\n",
    "These names will be used at the end of the project to load your saved model.\n",
    "\n",
    "Note: `None` for shapes in TensorFlow allow for a dynamic size."
   ]
  },
  {
   "cell_type": "code",
<<<<<<< HEAD
   "execution_count": 2,
=======
   "execution_count": 7,
>>>>>>> 5f683f794f52c7084a4bc50d110a5c9993d265d3
   "metadata": {
    "collapsed": false,
    "deletable": true,
    "editable": true
   },
   "outputs": [
    {
     "name": "stdout",
     "output_type": "stream",
     "text": [
      "Image Input Tests Passed.\n",
      "Label Input Tests Passed.\n",
      "Keep Prob Tests Passed.\n"
     ]
    }
   ],
   "source": [
    "import tensorflow as tf\n",
    "\n",
    "def neural_net_image_input(image_shape):\n",
    "    \"\"\"\n",
    "    Return a Tensor for a bach of image input\n",
    "    : image_shape: Shape of the images\n",
    "    : return: Tensor for image input.\n",
    "    \"\"\"\n",
    "    # TODO: Implement Function\n",
    "    x = tf.placeholder(tf.float32, shape=(None, image_shape[0], image_shape[1], image_shape[2]), name=\"x\")\n",
    "    return x\n",
    "\n",
    "\n",
    "def neural_net_label_input(n_classes):\n",
    "    \"\"\"\n",
    "    Return a Tensor for a batch of label input\n",
    "    : n_classes: Number of classes\n",
    "    : return: Tensor for label input.\n",
    "    \"\"\"\n",
    "    # TODO: Implement Function\n",
    "    x = tf.placeholder(tf.int32, shape=(None, n_classes), name=\"y\")\n",
    "    return x\n",
    "\n",
    "\n",
    "def neural_net_keep_prob_input():\n",
    "    \"\"\"\n",
    "    Return a Tensor for keep probability\n",
    "    : return: Tensor for keep probability.\n",
    "    \"\"\"\n",
    "    # TODO: Implement Function\n",
    "    x = tf.placeholder(tf.float32, shape=(None), name=\"keep_prob\")\n",
    "    return x\n",
    "\n",
    "\n",
    "\"\"\"\n",
    "DON'T MODIFY ANYTHING IN THIS CELL THAT IS BELOW THIS LINE\n",
    "\"\"\"\n",
    "tf.reset_default_graph()\n",
    "tests.test_nn_image_inputs(neural_net_image_input)\n",
    "tests.test_nn_label_inputs(neural_net_label_input)\n",
    "tests.test_nn_keep_prob_inputs(neural_net_keep_prob_input)"
   ]
  },
  {
   "cell_type": "markdown",
   "metadata": {
    "deletable": true,
    "editable": true
   },
   "source": [
    "### Convolution and Max Pooling Layer\n",
    "Convolution layers have a lot of success with images. For this code cell, you should implement the function `conv2d_maxpool` to apply convolution then max pooling:\n",
    "* Create the weight and bias using `conv_ksize`, `conv_num_outputs` and the shape of `x_tensor`.\n",
    "* Apply a convolution to `x_tensor` using weight and `conv_strides`.\n",
    " * We recommend you use same padding, but you're welcome to use any padding.\n",
    "* Add bias\n",
    "* Add a nonlinear activation to the convolution.\n",
    "* Apply Max Pooling using `pool_ksize` and `pool_strides`.\n",
    " * We recommend you use same padding, but you're welcome to use any padding.\n",
    "\n",
    "**Note:** You **can't** use [TensorFlow Layers](https://www.tensorflow.org/api_docs/python/tf/layers) or [TensorFlow Layers (contrib)](https://www.tensorflow.org/api_guides/python/contrib.layers) for **this** layer, but you can still use TensorFlow's [Neural Network](https://www.tensorflow.org/api_docs/python/tf/nn) package. You may still use the shortcut option for all the **other** layers."
   ]
  },
  {
   "cell_type": "code",
<<<<<<< HEAD
   "execution_count": 3,
=======
   "execution_count": 8,
>>>>>>> 5f683f794f52c7084a4bc50d110a5c9993d265d3
   "metadata": {
    "collapsed": false,
    "deletable": true,
    "editable": true
   },
   "outputs": [
    {
     "name": "stdout",
     "output_type": "stream",
     "text": [
      "Tests Passed\n"
     ]
    }
   ],
   "source": [
    "def conv2d_maxpool(x_tensor, conv_num_outputs, conv_ksize, conv_strides, pool_ksize, pool_strides):\n",
    "    \"\"\"\n",
    "    Apply convolution then max pooling to x_tensor\n",
    "    :param x_tensor: TensorFlow Tensor\n",
    "    :param conv_num_outputs: Number of outputs for the convolutional layer\n",
    "    :param conv_ksize: kernal size 2-D Tuple for the convolutional layer\n",
    "    :param conv_strides: Stride 2-D Tuple for convolution\n",
    "    :param pool_ksize: kernal size 2-D Tuple for pool\n",
    "    :param pool_strides: Stride 2-D Tuple for pool\n",
    "    : return: A tensor that represents convolution and max pooling of x_tensor\n",
    "    \"\"\"\n",
    "    # TODO: Implement Function\n",
    "    # Output depth\n",
    "    k_output = conv_num_outputs #10\n",
    "\n",
    "    # Image Properties\n",
    "    image_width = x_tensor.get_shape().as_list()[1]  #32\n",
    "    image_height = x_tensor.get_shape().as_list()[2] #32\n",
    "    color_channels = x_tensor.get_shape().as_list()[3] #3\n",
    "\n",
    "    # Convolution filter\n",
    "    filter_size_width = conv_ksize[0] #2\n",
    "    filter_size_height = conv_ksize[1] #2\n",
    "\n",
    "    # Input/Image\n",
    "    # x_tensor\n",
    "\n",
    "    # Weight and bias\n",
    "    weight = tf.Variable(tf.truncated_normal([filter_size_height, filter_size_width, color_channels, k_output])) #2x2x3x10\n",
    "    bias = tf.Variable(tf.zeros(k_output)) #0 \n",
    "\n",
    "    # Stride\n",
    "    strides = [1, conv_strides[0], conv_strides[1], 1] #[batch, input_height, input_width, input_channels]\n",
    "    \n",
    "    # Apply Convolution\n",
    "    conv_layer = tf.nn.conv2d(x_tensor, weight, strides, padding='SAME')\n",
    "    \n",
    "    # Add bias\n",
    "    conv_layer = tf.nn.bias_add(conv_layer, bias)\n",
    "    \n",
    "    # Apply activation function\n",
    "    conv_layer = tf.nn.relu(conv_layer)\n",
    "    \n",
    "    # Apply Max Pooling\n",
    "    ksize = [1, pool_ksize[0], pool_ksize[1], 1]\n",
    "    kstrides = [1, pool_strides[0], pool_strides[1], 1]\n",
    "    conv_layer = tf.nn.max_pool(conv_layer, ksize, kstrides, padding='SAME')\n",
    "    \n",
    "    return conv_layer\n",
    "\n",
    "\n",
    "\"\"\"\n",
    "DON'T MODIFY ANYTHING IN THIS CELL THAT IS BELOW THIS LINE\n",
    "\"\"\"\n",
    "tests.test_con_pool(conv2d_maxpool)"
   ]
  },
  {
   "cell_type": "markdown",
   "metadata": {
    "deletable": true,
    "editable": true
   },
   "source": [
    "### Flatten Layer\n",
    "Implement the `flatten` function to change the dimension of `x_tensor` from a 4-D tensor to a 2-D tensor.  The output should be the shape (*Batch Size*, *Flattened Image Size*). Shortcut option: you can use classes from the [TensorFlow Layers](https://www.tensorflow.org/api_docs/python/tf/layers) or [TensorFlow Layers (contrib)](https://www.tensorflow.org/api_guides/python/contrib.layers) packages for this layer. For more of a challenge, only use other TensorFlow packages."
   ]
  },
  {
   "cell_type": "code",
<<<<<<< HEAD
   "execution_count": 4,
=======
   "execution_count": 9,
>>>>>>> 5f683f794f52c7084a4bc50d110a5c9993d265d3
   "metadata": {
    "collapsed": false,
    "deletable": true,
    "editable": true
   },
   "outputs": [
    {
     "name": "stdout",
     "output_type": "stream",
     "text": [
      "Tests Passed\n"
     ]
    }
   ],
   "source": [
    "def flatten(x_tensor):\n",
    "    \"\"\"\n",
    "    Flatten x_tensor to (Batch Size, Flattened Image Size)\n",
    "    : x_tensor: A tensor of size (Batch Size, ...), where ... are the image dimensions.\n",
    "    : return: A tensor of size (Batch Size, Flattened Image Size).\n",
    "    \"\"\"\n",
    "    # TODO: Implement Function\n",
    "    #Dense Layer\n",
    "    #batch_size = x_tensor.get_shape().as_list()[0]\n",
    "    #print (batch_size)\n",
    "    flattend_size = x_tensor.get_shape().as_list()[1] * x_tensor.get_shape().as_list()[2] * x_tensor.get_shape().as_list()[3]\n",
    "    #print (flattend_size)\n",
    "    res = tf.reshape(x_tensor, [-1, flattend_size]) #Why -1?\n",
    "    return res\n",
    "\n",
    "\n",
    "\"\"\"\n",
    "DON'T MODIFY ANYTHING IN THIS CELL THAT IS BELOW THIS LINE\n",
    "\"\"\"\n",
    "tests.test_flatten(flatten)"
   ]
  },
  {
   "cell_type": "markdown",
   "metadata": {
    "deletable": true,
    "editable": true
   },
   "source": [
    "### Fully-Connected Layer\n",
    "Implement the `fully_conn` function to apply a fully connected layer to `x_tensor` with the shape (*Batch Size*, *num_outputs*). Shortcut option: you can use classes from the [TensorFlow Layers](https://www.tensorflow.org/api_docs/python/tf/layers) or [TensorFlow Layers (contrib)](https://www.tensorflow.org/api_guides/python/contrib.layers) packages for this layer. For more of a challenge, only use other TensorFlow packages."
   ]
  },
  {
   "cell_type": "code",
<<<<<<< HEAD
   "execution_count": 5,
=======
   "execution_count": 10,
>>>>>>> 5f683f794f52c7084a4bc50d110a5c9993d265d3
   "metadata": {
    "collapsed": false,
    "deletable": true,
    "editable": true
   },
   "outputs": [
    {
     "name": "stdout",
     "output_type": "stream",
     "text": [
      "Tests Passed\n"
     ]
    }
   ],
   "source": [
    "def fully_conn(x_tensor, num_outputs):\n",
    "    \"\"\"\n",
    "    Apply a fully connected layer to x_tensor using weight and bias\n",
    "    : x_tensor: A 2-D tensor where the first dimension is batch size.\n",
    "    : num_outputs: The number of output that the new tensor should be.\n",
    "    : return: A 2-D tensor where the second dimension is num_outputs.\n",
    "    \"\"\"\n",
    "    # TODO: Implement Function\n",
    "    # Weight and bias\n",
    "    #print (x_tensor.get_shape().as_list())\n",
    "    fc = tf.layers.dense(inputs=x_tensor, units=num_outputs, activation=tf.nn.relu)\n",
    "    return fc\n",
    "\n",
    "\n",
    "\"\"\"\n",
    "DON'T MODIFY ANYTHING IN THIS CELL THAT IS BELOW THIS LINE\n",
    "\"\"\"\n",
    "tests.test_fully_conn(fully_conn)"
   ]
  },
  {
   "cell_type": "markdown",
   "metadata": {
    "deletable": true,
    "editable": true
   },
   "source": [
    "### Output Layer\n",
    "Implement the `output` function to apply a fully connected layer to `x_tensor` with the shape (*Batch Size*, *num_outputs*). Shortcut option: you can use classes from the [TensorFlow Layers](https://www.tensorflow.org/api_docs/python/tf/layers) or [TensorFlow Layers (contrib)](https://www.tensorflow.org/api_guides/python/contrib.layers) packages for this layer. For more of a challenge, only use other TensorFlow packages.\n",
    "\n",
    "**Note:** Activation, softmax, or cross entropy should **not** be applied to this."
   ]
  },
  {
   "cell_type": "code",
<<<<<<< HEAD
   "execution_count": 6,
=======
   "execution_count": 11,
>>>>>>> 5f683f794f52c7084a4bc50d110a5c9993d265d3
   "metadata": {
    "collapsed": false,
    "deletable": true,
    "editable": true
   },
   "outputs": [
    {
     "name": "stdout",
     "output_type": "stream",
     "text": [
      "Tests Passed\n"
     ]
    }
   ],
   "source": [
    "def output(x_tensor, num_outputs):\n",
    "    \"\"\"\n",
    "    Apply a output layer to x_tensor using weight and bias\n",
    "    : x_tensor: A 2-D tensor where the first dimension is batch size.\n",
    "    : num_outputs: The number of output that the new tensor should be.\n",
    "    : return: A 2-D tensor where the second dimension is num_outputs.\n",
    "    \"\"\"\n",
    "    # TODO: Implement Function\n",
<<<<<<< HEAD
    "    out = tf.layers.dense(inputs=x_tensor, units=num_outputs, activation=None)\n",
=======
    "    out = tf.layers.dense(inputs=x_tensor, units=num_outputs)\n",
>>>>>>> 5f683f794f52c7084a4bc50d110a5c9993d265d3
    "    return out\n",
    "\n",
    "\n",
    "\"\"\"\n",
    "DON'T MODIFY ANYTHING IN THIS CELL THAT IS BELOW THIS LINE\n",
    "\"\"\"\n",
    "tests.test_output(output)"
   ]
  },
  {
   "cell_type": "markdown",
   "metadata": {
    "deletable": true,
    "editable": true
   },
   "source": [
    "### Create Convolutional Model\n",
    "Implement the function `conv_net` to create a convolutional neural network model. The function takes in a batch of images, `x`, and outputs logits.  Use the layers you created above to create this model:\n",
    "\n",
    "* Apply 1, 2, or 3 Convolution and Max Pool layers\n",
    "* Apply a Flatten Layer\n",
    "* Apply 1, 2, or 3 Fully Connected Layers\n",
    "* Apply an Output Layer\n",
    "* Return the output\n",
    "* Apply [TensorFlow's Dropout](https://www.tensorflow.org/api_docs/python/tf/nn/dropout) to one or more layers in the model using `keep_prob`. "
   ]
  },
  {
   "cell_type": "code",
<<<<<<< HEAD
   "execution_count": 9,
=======
   "execution_count": 37,
>>>>>>> 5f683f794f52c7084a4bc50d110a5c9993d265d3
   "metadata": {
    "collapsed": false,
    "deletable": true,
    "editable": true
   },
   "outputs": [
    {
     "name": "stdout",
     "output_type": "stream",
     "text": [
      "Neural Network Built!\n"
     ]
    }
   ],
   "source": [
    "def conv_net(x, keep_prob):\n",
    "    \"\"\"\n",
    "    Create a convolutional neural network model\n",
    "    : x: Placeholder tensor that holds image data.\n",
    "    : keep_prob: Placeholder tensor that hold dropout keep probability.\n",
    "    : return: Tensor that represents logits\n",
    "    \"\"\"\n",
    "    # TODO: Apply 1, 2, or 3 Convolution and Max Pool layers\n",
    "    #    Play around with different number of outputs, kernel size and stride\n",
    "    # Function Definition from Above:\n",
    "    # CONV Layer1:\n",
    "    conv1 = conv2d_maxpool(\n",
    "                            x_tensor=x,\n",
    "                            conv_num_outputs=20,\n",
    "                            conv_ksize=(2, 2),\n",
    "                            conv_strides=(2, 2),\n",
    "                            pool_ksize=(2,2),\n",
    "                            pool_strides=(2,2)\n",
    "                          )\n",
    "    \n",
    "    \n",
    "    # TODO: Apply a Flatten Layer\n",
    "    # Function Definition from Above:\n",
    "    conv = flatten(x_tensor=conv1)\n",
<<<<<<< HEAD
    "        \n",
=======
    "\n",
>>>>>>> 5f683f794f52c7084a4bc50d110a5c9993d265d3
    "    # TODO: Apply 1, 2, or 3 Fully Connected Layers\n",
    "    #    Play around with different number of outputs\n",
    "    # Function Definition from Above:\n",
    "    # FC Layer1\n",
    "    fc1 = fully_conn(x_tensor=conv, \n",
    "                     num_outputs=30\n",
    "                    )\n",
    "    \n",
    "    fc2 = fully_conn(x_tensor=fc1, \n",
    "                     num_outputs=60\n",
    "                    )\n",
    "    \n",
<<<<<<< HEAD
    "    fc2 = tf.nn.dropout(fc2, keep_prob)\n",
    "    \n",
    "    fc = fc2\n",
    "    \n",
=======
    "    fc = fc2\n",
>>>>>>> 5f683f794f52c7084a4bc50d110a5c9993d265d3
    "    # TODO: Apply an Output Layer\n",
    "    #    Set this to the number of classes\n",
    "    # Function Definition from Above:\n",
    "    out = output(x_tensor=fc, \n",
    "                 num_outputs=10\n",
    "                )\n",
    "    \n",
    "    \n",
    "    # TODO: return output\n",
    "    return out\n",
    "\n",
    "\n",
    "\"\"\"\n",
    "DON'T MODIFY ANYTHING IN THIS CELL THAT IS BELOW THIS LINE\n",
    "\"\"\"\n",
    "\n",
    "##############################\n",
    "## Build the Neural Network ##\n",
    "##############################\n",
    "\n",
    "# Remove previous weights, bias, inputs, etc..\n",
    "tf.reset_default_graph()\n",
    "\n",
    "# Inputs\n",
    "x = neural_net_image_input((32, 32, 3))\n",
    "y = neural_net_label_input(10)\n",
    "keep_prob = neural_net_keep_prob_input()\n",
    "\n",
    "# Model\n",
    "logits = conv_net(x, keep_prob)\n",
    "\n",
    "# Name logits Tensor, so that is can be loaded from disk after training\n",
    "logits = tf.identity(logits, name='logits')\n",
    "\n",
    "# Loss and Optimizer\n",
    "cost = tf.reduce_mean(tf.nn.softmax_cross_entropy_with_logits(logits=logits, labels=y))\n",
    "optimizer = tf.train.AdamOptimizer().minimize(cost)\n",
    "\n",
    "# Accuracy\n",
    "correct_pred = tf.equal(tf.argmax(logits, 1), tf.argmax(y, 1))\n",
    "accuracy = tf.reduce_mean(tf.cast(correct_pred, tf.float32), name='accuracy')\n",
    "\n",
    "tests.test_conv_net(conv_net)"
   ]
  },
  {
   "cell_type": "markdown",
   "metadata": {
    "deletable": true,
    "editable": true
   },
   "source": [
    "## Train the Neural Network\n",
    "### Single Optimization\n",
    "Implement the function `train_neural_network` to do a single optimization.  The optimization should use `optimizer` to optimize in `session` with a `feed_dict` of the following:\n",
    "* `x` for image input\n",
    "* `y` for labels\n",
    "* `keep_prob` for keep probability for dropout\n",
    "\n",
    "This function will be called for each batch, so `tf.global_variables_initializer()` has already been called.\n",
    "\n",
    "Note: Nothing needs to be returned. This function is only optimizing the neural network."
   ]
  },
  {
   "cell_type": "code",
<<<<<<< HEAD
   "execution_count": 10,
=======
   "execution_count": 38,
>>>>>>> 5f683f794f52c7084a4bc50d110a5c9993d265d3
   "metadata": {
    "collapsed": false,
    "deletable": true,
    "editable": true
   },
   "outputs": [
    {
     "name": "stdout",
     "output_type": "stream",
     "text": [
      "Tests Passed\n"
     ]
    }
   ],
   "source": [
    "def train_neural_network(session, optimizer, keep_probability, feature_batch, label_batch):\n",
    "    \"\"\"\n",
    "    Optimize the session on a batch of images and labels\n",
    "    : session: Current TensorFlow session\n",
    "    : optimizer: TensorFlow optimizer function\n",
    "    : keep_probability: keep probability\n",
    "    : feature_batch: Batch of Numpy image data\n",
    "    : label_batch: Batch of Numpy label data\n",
    "    \"\"\"\n",
    "    # TODO: Implement Function\n",
    "    batch_x = feature_batch\n",
    "    batch_y = label_batch\n",
    "    session.run(optimizer, feed_dict={\n",
    "                x: batch_x,\n",
    "                y: batch_y,\n",
    "                keep_prob: keep_probability})\n",
    "\n",
    "\"\"\"\n",
    "DON'T MODIFY ANYTHING IN THIS CELL THAT IS BELOW THIS LINE\n",
    "\"\"\"\n",
    "tests.test_train_nn(train_neural_network)"
   ]
  },
  {
   "cell_type": "markdown",
   "metadata": {
    "deletable": true,
    "editable": true
   },
   "source": [
    "### Show Stats\n",
    "Implement the function `print_stats` to print loss and validation accuracy.  Use the global variables `valid_features` and `valid_labels` to calculate validation accuracy.  Use a keep probability of `1.0` to calculate the loss and validation accuracy."
   ]
  },
  {
   "cell_type": "code",
<<<<<<< HEAD
   "execution_count": 11,
=======
   "execution_count": 39,
>>>>>>> 5f683f794f52c7084a4bc50d110a5c9993d265d3
   "metadata": {
    "collapsed": false,
    "deletable": true,
    "editable": true
   },
   "outputs": [],
   "source": [
    "def print_stats(session, feature_batch, label_batch, cost, accuracy):\n",
    "    \"\"\"\n",
    "    Print information about loss and validation accuracy\n",
    "    : session: Current TensorFlow session\n",
    "    : feature_batch: Batch of Numpy image data\n",
    "    : label_batch: Batch of Numpy label data\n",
    "    : cost: TensorFlow cost function\n",
    "    : accuracy: TensorFlow accuracy function\n",
    "    \"\"\"\n",
    "    # TODO: Implement Function\n",
    "    # Calculate batch loss and accuracy\n",
    "    batch_x = feature_batch\n",
    "    batch_y = label_batch\n",
    "    loss = session.run(cost, feed_dict={\n",
    "                    x: batch_x,\n",
    "                    y: batch_y,\n",
    "                    keep_prob: 1.})\n",
    "    valid_acc = sess.run(accuracy, feed_dict={\n",
    "                        x: valid_features,\n",
    "                        y: valid_labels,\n",
    "                        keep_prob: 1.})\n",
    "\n",
    "    print('Loss: {:>10.4f} Validation Accuracy: {:.6f}'.format(\n",
    "                loss,\n",
    "                valid_acc))"
   ]
  },
  {
   "cell_type": "markdown",
   "metadata": {
    "deletable": true,
    "editable": true
   },
   "source": [
    "### Hyperparameters\n",
    "Tune the following parameters:\n",
    "* Set `epochs` to the number of iterations until the network stops learning or start overfitting\n",
    "* Set `batch_size` to the highest number that your machine has memory for.  Most people set them to common sizes of memory:\n",
    " * 64\n",
    " * 128\n",
    " * 256\n",
    " * ...\n",
    "* Set `keep_probability` to the probability of keeping a node using dropout"
   ]
  },
  {
   "cell_type": "code",
<<<<<<< HEAD
   "execution_count": 12,
=======
   "execution_count": 40,
>>>>>>> 5f683f794f52c7084a4bc50d110a5c9993d265d3
   "metadata": {
    "collapsed": true,
    "deletable": true,
    "editable": true
   },
   "outputs": [],
   "source": [
    "# TODO: Tune Parameters\n",
    "epochs = 30\n",
    "batch_size = 256\n",
    "keep_probability = 0.8"
   ]
  },
  {
   "cell_type": "markdown",
   "metadata": {
    "deletable": true,
    "editable": true
   },
   "source": [
    "### Train on a Single CIFAR-10 Batch\n",
    "Instead of training the neural network on all the CIFAR-10 batches of data, let's use a single batch. This should save time while you iterate on the model to get a better accuracy.  Once the final validation accuracy is 50% or greater, run the model on all the data in the next section."
   ]
  },
  {
   "cell_type": "code",
<<<<<<< HEAD
   "execution_count": 13,
=======
   "execution_count": 41,
>>>>>>> 5f683f794f52c7084a4bc50d110a5c9993d265d3
   "metadata": {
    "collapsed": false,
    "deletable": true,
    "editable": true
   },
   "outputs": [
    {
     "name": "stdout",
     "output_type": "stream",
     "text": [
      "Checking the Training on a Single Batch...\n",
<<<<<<< HEAD
      "Epoch  1, CIFAR-10 Batch 1:  Loss:     2.3034 Validation Accuracy: 0.193400\n",
      "Epoch  2, CIFAR-10 Batch 1:  Loss:     2.2131 Validation Accuracy: 0.239400\n",
      "Epoch  3, CIFAR-10 Batch 1:  Loss:     2.1224 Validation Accuracy: 0.266000\n",
      "Epoch  4, CIFAR-10 Batch 1:  Loss:     2.0798 Validation Accuracy: 0.296400\n",
      "Epoch  5, CIFAR-10 Batch 1:  Loss:     2.0240 Validation Accuracy: 0.316600\n",
      "Epoch  6, CIFAR-10 Batch 1:  Loss:     1.9696 Validation Accuracy: 0.320600\n",
      "Epoch  7, CIFAR-10 Batch 1:  Loss:     1.9366 Validation Accuracy: 0.327800\n",
      "Epoch  8, CIFAR-10 Batch 1:  Loss:     1.9141 Validation Accuracy: 0.335000\n",
      "Epoch  9, CIFAR-10 Batch 1:  Loss:     1.8340 Validation Accuracy: 0.350800\n",
      "Epoch 10, CIFAR-10 Batch 1:  Loss:     1.7899 Validation Accuracy: 0.373200\n",
      "Epoch 11, CIFAR-10 Batch 1:  Loss:     1.7628 Validation Accuracy: 0.379600\n",
      "Epoch 12, CIFAR-10 Batch 1:  Loss:     1.7591 Validation Accuracy: 0.383400\n",
      "Epoch 13, CIFAR-10 Batch 1:  Loss:     1.7373 Validation Accuracy: 0.383600\n",
      "Epoch 14, CIFAR-10 Batch 1:  Loss:     1.7112 Validation Accuracy: 0.387400\n",
      "Epoch 15, CIFAR-10 Batch 1:  Loss:     1.6818 Validation Accuracy: 0.389400\n",
      "Epoch 16, CIFAR-10 Batch 1:  Loss:     1.6662 Validation Accuracy: 0.388600\n",
      "Epoch 17, CIFAR-10 Batch 1:  Loss:     1.6100 Validation Accuracy: 0.401800\n",
      "Epoch 18, CIFAR-10 Batch 1:  Loss:     1.5789 Validation Accuracy: 0.404000\n",
      "Epoch 19, CIFAR-10 Batch 1:  Loss:     1.5564 Validation Accuracy: 0.411400\n",
      "Epoch 20, CIFAR-10 Batch 1:  Loss:     1.5071 Validation Accuracy: 0.419600\n",
      "Epoch 21, CIFAR-10 Batch 1:  Loss:     1.5081 Validation Accuracy: 0.415600\n",
      "Epoch 22, CIFAR-10 Batch 1:  Loss:     1.4800 Validation Accuracy: 0.417200\n",
      "Epoch 23, CIFAR-10 Batch 1:  Loss:     1.4880 Validation Accuracy: 0.412800\n",
      "Epoch 24, CIFAR-10 Batch 1:  Loss:     1.4394 Validation Accuracy: 0.418600\n",
      "Epoch 25, CIFAR-10 Batch 1:  Loss:     1.4029 Validation Accuracy: 0.424400\n",
      "Epoch 26, CIFAR-10 Batch 1:  Loss:     1.3597 Validation Accuracy: 0.428800\n",
      "Epoch 27, CIFAR-10 Batch 1:  Loss:     1.3436 Validation Accuracy: 0.425800\n",
      "Epoch 28, CIFAR-10 Batch 1:  Loss:     1.3047 Validation Accuracy: 0.435800\n",
      "Epoch 29, CIFAR-10 Batch 1:  Loss:     1.2807 Validation Accuracy: 0.441200\n",
      "Epoch 30, CIFAR-10 Batch 1:  Loss:     1.2629 Validation Accuracy: 0.434800\n"
=======
      "Epoch  1, CIFAR-10 Batch 1:  Loss:     2.1099 Validation Accuracy: 0.270800\n",
      "Epoch  2, CIFAR-10 Batch 1:  Loss:     1.9768 Validation Accuracy: 0.358200\n",
      "Epoch  3, CIFAR-10 Batch 1:  Loss:     1.8154 Validation Accuracy: 0.387800\n",
      "Epoch  4, CIFAR-10 Batch 1:  Loss:     1.6853 Validation Accuracy: 0.418600\n",
      "Epoch  5, CIFAR-10 Batch 1:  Loss:     1.5826 Validation Accuracy: 0.439000\n",
      "Epoch  6, CIFAR-10 Batch 1:  Loss:     1.4713 Validation Accuracy: 0.453400\n",
      "Epoch  7, CIFAR-10 Batch 1:  Loss:     1.3749 Validation Accuracy: 0.469200\n",
      "Epoch  8, CIFAR-10 Batch 1:  Loss:     1.2728 Validation Accuracy: 0.481000\n",
      "Epoch  9, CIFAR-10 Batch 1:  Loss:     1.2019 Validation Accuracy: 0.485800\n",
      "Epoch 10, CIFAR-10 Batch 1:  Loss:     1.1373 Validation Accuracy: 0.485000\n",
      "Epoch 11, CIFAR-10 Batch 1:  Loss:     1.0644 Validation Accuracy: 0.492600\n",
      "Epoch 12, CIFAR-10 Batch 1:  Loss:     1.0116 Validation Accuracy: 0.493200\n",
      "Epoch 13, CIFAR-10 Batch 1:  Loss:     0.9627 Validation Accuracy: 0.497800\n",
      "Epoch 14, CIFAR-10 Batch 1:  Loss:     0.9180 Validation Accuracy: 0.501200\n",
      "Epoch 15, CIFAR-10 Batch 1:  Loss:     0.8633 Validation Accuracy: 0.504800\n",
      "Epoch 16, CIFAR-10 Batch 1:  Loss:     0.8250 Validation Accuracy: 0.502800\n",
      "Epoch 17, CIFAR-10 Batch 1:  Loss:     0.7872 Validation Accuracy: 0.504800\n",
      "Epoch 18, CIFAR-10 Batch 1:  Loss:     0.7535 Validation Accuracy: 0.506400\n",
      "Epoch 19, CIFAR-10 Batch 1:  Loss:     0.7149 Validation Accuracy: 0.507600\n",
      "Epoch 20, CIFAR-10 Batch 1:  Loss:     0.6814 Validation Accuracy: 0.504200\n",
      "Epoch 21, CIFAR-10 Batch 1:  Loss:     0.6529 Validation Accuracy: 0.502400\n",
      "Epoch 22, CIFAR-10 Batch 1:  Loss:     0.6242 Validation Accuracy: 0.501000\n",
      "Epoch 23, CIFAR-10 Batch 1:  Loss:     0.6041 Validation Accuracy: 0.505800\n",
      "Epoch 24, CIFAR-10 Batch 1:  Loss:     0.5874 Validation Accuracy: 0.513600\n",
      "Epoch 25, CIFAR-10 Batch 1:  Loss:     0.5734 Validation Accuracy: 0.516400\n",
      "Epoch 26, CIFAR-10 Batch 1:  Loss:     0.5548 Validation Accuracy: 0.513000\n",
      "Epoch 27, CIFAR-10 Batch 1:  Loss:     0.5361 Validation Accuracy: 0.515000\n",
      "Epoch 28, CIFAR-10 Batch 1:  Loss:     0.5243 Validation Accuracy: 0.514000\n",
      "Epoch 29, CIFAR-10 Batch 1:  Loss:     0.5088 Validation Accuracy: 0.513200\n",
      "Epoch 30, CIFAR-10 Batch 1:  Loss:     0.4868 Validation Accuracy: 0.513800\n"
>>>>>>> 5f683f794f52c7084a4bc50d110a5c9993d265d3
     ]
    }
   ],
   "source": [
    "\"\"\"\n",
    "DON'T MODIFY ANYTHING IN THIS CELL\n",
    "\"\"\"\n",
    "print('Checking the Training on a Single Batch...')\n",
    "with tf.Session() as sess:\n",
    "    # Initializing the variables\n",
    "    sess.run(tf.global_variables_initializer())\n",
    "    \n",
    "    # Training cycle\n",
    "    for epoch in range(epochs):\n",
    "        batch_i = 1\n",
    "        for batch_features, batch_labels in helper.load_preprocess_training_batch(batch_i, batch_size):\n",
    "            train_neural_network(sess, optimizer, keep_probability, batch_features, batch_labels)\n",
    "        print('Epoch {:>2}, CIFAR-10 Batch {}:  '.format(epoch + 1, batch_i), end='')\n",
    "        print_stats(sess, batch_features, batch_labels, cost, accuracy)"
   ]
  },
  {
   "cell_type": "markdown",
   "metadata": {
    "deletable": true,
    "editable": true
   },
   "source": [
    "### Fully Train the Model\n",
    "Now that you got a good accuracy with a single CIFAR-10 batch, try it with all five batches."
   ]
  },
  {
   "cell_type": "code",
<<<<<<< HEAD
   "execution_count": 14,
=======
   "execution_count": 42,
>>>>>>> 5f683f794f52c7084a4bc50d110a5c9993d265d3
   "metadata": {
    "collapsed": false,
    "deletable": true,
    "editable": true
   },
   "outputs": [
    {
     "name": "stdout",
     "output_type": "stream",
     "text": [
      "Training...\n",
<<<<<<< HEAD
      "Epoch  1, CIFAR-10 Batch 1:  Loss:     2.2340 Validation Accuracy: 0.199400\n",
      "Epoch  1, CIFAR-10 Batch 2:  Loss:     2.0514 Validation Accuracy: 0.243600\n",
      "Epoch  1, CIFAR-10 Batch 3:  Loss:     1.7847 Validation Accuracy: 0.271800\n",
      "Epoch  1, CIFAR-10 Batch 4:  Loss:     1.8134 Validation Accuracy: 0.319800\n",
      "Epoch  1, CIFAR-10 Batch 5:  Loss:     1.8360 Validation Accuracy: 0.364000\n",
      "Epoch  2, CIFAR-10 Batch 1:  Loss:     2.0609 Validation Accuracy: 0.370000\n",
      "Epoch  2, CIFAR-10 Batch 2:  Loss:     1.5522 Validation Accuracy: 0.398600\n",
      "Epoch  2, CIFAR-10 Batch 3:  Loss:     1.3807 Validation Accuracy: 0.410400\n",
      "Epoch  2, CIFAR-10 Batch 4:  Loss:     1.5907 Validation Accuracy: 0.429800\n",
      "Epoch  2, CIFAR-10 Batch 5:  Loss:     1.5741 Validation Accuracy: 0.434200\n",
      "Epoch  3, CIFAR-10 Batch 1:  Loss:     1.8224 Validation Accuracy: 0.432600\n",
      "Epoch  3, CIFAR-10 Batch 2:  Loss:     1.3225 Validation Accuracy: 0.446800\n",
      "Epoch  3, CIFAR-10 Batch 3:  Loss:     1.1596 Validation Accuracy: 0.457800\n",
      "Epoch  3, CIFAR-10 Batch 4:  Loss:     1.4596 Validation Accuracy: 0.465200\n",
      "Epoch  3, CIFAR-10 Batch 5:  Loss:     1.4173 Validation Accuracy: 0.470400\n",
      "Epoch  4, CIFAR-10 Batch 1:  Loss:     1.6568 Validation Accuracy: 0.466800\n",
      "Epoch  4, CIFAR-10 Batch 2:  Loss:     1.2193 Validation Accuracy: 0.466400\n",
      "Epoch  4, CIFAR-10 Batch 3:  Loss:     1.0481 Validation Accuracy: 0.481000\n",
      "Epoch  4, CIFAR-10 Batch 4:  Loss:     1.3866 Validation Accuracy: 0.478600\n",
      "Epoch  4, CIFAR-10 Batch 5:  Loss:     1.2959 Validation Accuracy: 0.490400\n",
      "Epoch  5, CIFAR-10 Batch 1:  Loss:     1.6038 Validation Accuracy: 0.484400\n",
      "Epoch  5, CIFAR-10 Batch 2:  Loss:     1.1646 Validation Accuracy: 0.480200\n",
      "Epoch  5, CIFAR-10 Batch 3:  Loss:     0.9614 Validation Accuracy: 0.493400\n",
      "Epoch  5, CIFAR-10 Batch 4:  Loss:     1.3030 Validation Accuracy: 0.496000\n",
      "Epoch  5, CIFAR-10 Batch 5:  Loss:     1.2105 Validation Accuracy: 0.504200\n",
      "Epoch  6, CIFAR-10 Batch 1:  Loss:     1.4957 Validation Accuracy: 0.508200\n",
      "Epoch  6, CIFAR-10 Batch 2:  Loss:     1.1526 Validation Accuracy: 0.483000\n",
      "Epoch  6, CIFAR-10 Batch 3:  Loss:     0.9114 Validation Accuracy: 0.505200\n",
      "Epoch  6, CIFAR-10 Batch 4:  Loss:     1.2400 Validation Accuracy: 0.502800\n",
      "Epoch  6, CIFAR-10 Batch 5:  Loss:     1.1529 Validation Accuracy: 0.511200\n",
      "Epoch  7, CIFAR-10 Batch 1:  Loss:     1.4445 Validation Accuracy: 0.513000\n",
      "Epoch  7, CIFAR-10 Batch 2:  Loss:     1.0865 Validation Accuracy: 0.503800\n",
      "Epoch  7, CIFAR-10 Batch 3:  Loss:     0.8571 Validation Accuracy: 0.514400\n",
      "Epoch  7, CIFAR-10 Batch 4:  Loss:     1.2080 Validation Accuracy: 0.520600\n",
      "Epoch  7, CIFAR-10 Batch 5:  Loss:     1.1147 Validation Accuracy: 0.523600\n",
      "Epoch  8, CIFAR-10 Batch 1:  Loss:     1.4226 Validation Accuracy: 0.525800\n",
      "Epoch  8, CIFAR-10 Batch 2:  Loss:     1.0529 Validation Accuracy: 0.514600\n",
      "Epoch  8, CIFAR-10 Batch 3:  Loss:     0.8376 Validation Accuracy: 0.514200\n",
      "Epoch  8, CIFAR-10 Batch 4:  Loss:     1.1452 Validation Accuracy: 0.528000\n",
      "Epoch  8, CIFAR-10 Batch 5:  Loss:     1.0438 Validation Accuracy: 0.527600\n",
      "Epoch  9, CIFAR-10 Batch 1:  Loss:     1.3570 Validation Accuracy: 0.535200\n",
      "Epoch  9, CIFAR-10 Batch 2:  Loss:     1.0124 Validation Accuracy: 0.520000\n",
      "Epoch  9, CIFAR-10 Batch 3:  Loss:     0.8072 Validation Accuracy: 0.526400\n",
      "Epoch  9, CIFAR-10 Batch 4:  Loss:     1.1032 Validation Accuracy: 0.523200\n",
      "Epoch  9, CIFAR-10 Batch 5:  Loss:     1.0251 Validation Accuracy: 0.532600\n",
      "Epoch 10, CIFAR-10 Batch 1:  Loss:     1.3442 Validation Accuracy: 0.544600\n",
      "Epoch 10, CIFAR-10 Batch 2:  Loss:     0.9969 Validation Accuracy: 0.525400\n",
      "Epoch 10, CIFAR-10 Batch 3:  Loss:     0.7558 Validation Accuracy: 0.534800\n",
      "Epoch 10, CIFAR-10 Batch 4:  Loss:     1.0615 Validation Accuracy: 0.533400\n",
      "Epoch 10, CIFAR-10 Batch 5:  Loss:     0.9697 Validation Accuracy: 0.538200\n",
      "Epoch 11, CIFAR-10 Batch 1:  Loss:     1.2714 Validation Accuracy: 0.548800\n",
      "Epoch 11, CIFAR-10 Batch 2:  Loss:     0.9682 Validation Accuracy: 0.535400\n",
      "Epoch 11, CIFAR-10 Batch 3:  Loss:     0.7345 Validation Accuracy: 0.533200\n",
      "Epoch 11, CIFAR-10 Batch 4:  Loss:     1.0473 Validation Accuracy: 0.535600\n",
      "Epoch 11, CIFAR-10 Batch 5:  Loss:     0.9439 Validation Accuracy: 0.544200\n",
      "Epoch 12, CIFAR-10 Batch 1:  Loss:     1.2443 Validation Accuracy: 0.553200\n",
      "Epoch 12, CIFAR-10 Batch 2:  Loss:     0.9334 Validation Accuracy: 0.540200\n",
      "Epoch 12, CIFAR-10 Batch 3:  Loss:     0.7058 Validation Accuracy: 0.546600\n",
      "Epoch 12, CIFAR-10 Batch 4:  Loss:     1.0096 Validation Accuracy: 0.542000\n",
      "Epoch 12, CIFAR-10 Batch 5:  Loss:     0.9172 Validation Accuracy: 0.544800\n",
      "Epoch 13, CIFAR-10 Batch 1:  Loss:     1.2077 Validation Accuracy: 0.554800\n",
      "Epoch 13, CIFAR-10 Batch 2:  Loss:     0.8907 Validation Accuracy: 0.545200\n",
      "Epoch 13, CIFAR-10 Batch 3:  Loss:     0.6860 Validation Accuracy: 0.551600\n",
      "Epoch 13, CIFAR-10 Batch 4:  Loss:     0.9847 Validation Accuracy: 0.550600\n",
      "Epoch 13, CIFAR-10 Batch 5:  Loss:     0.8958 Validation Accuracy: 0.548400\n",
      "Epoch 14, CIFAR-10 Batch 1:  Loss:     1.2045 Validation Accuracy: 0.557200\n",
      "Epoch 14, CIFAR-10 Batch 2:  Loss:     0.8817 Validation Accuracy: 0.551400\n",
      "Epoch 14, CIFAR-10 Batch 3:  Loss:     0.6588 Validation Accuracy: 0.554400\n",
      "Epoch 14, CIFAR-10 Batch 4:  Loss:     0.9512 Validation Accuracy: 0.553600\n",
      "Epoch 14, CIFAR-10 Batch 5:  Loss:     0.8548 Validation Accuracy: 0.552600\n",
      "Epoch 15, CIFAR-10 Batch 1:  Loss:     1.1634 Validation Accuracy: 0.555200\n",
      "Epoch 15, CIFAR-10 Batch 2:  Loss:     0.8279 Validation Accuracy: 0.553200\n",
      "Epoch 15, CIFAR-10 Batch 3:  Loss:     0.6416 Validation Accuracy: 0.554600\n",
      "Epoch 15, CIFAR-10 Batch 4:  Loss:     0.9527 Validation Accuracy: 0.550600\n",
      "Epoch 15, CIFAR-10 Batch 5:  Loss:     0.8255 Validation Accuracy: 0.556600\n",
      "Epoch 16, CIFAR-10 Batch 1:  Loss:     1.1187 Validation Accuracy: 0.554200\n",
      "Epoch 16, CIFAR-10 Batch 2:  Loss:     0.8093 Validation Accuracy: 0.556600\n",
      "Epoch 16, CIFAR-10 Batch 3:  Loss:     0.6193 Validation Accuracy: 0.559800\n",
      "Epoch 16, CIFAR-10 Batch 4:  Loss:     0.9086 Validation Accuracy: 0.556400\n",
      "Epoch 16, CIFAR-10 Batch 5:  Loss:     0.8300 Validation Accuracy: 0.555200\n",
      "Epoch 17, CIFAR-10 Batch 1:  Loss:     1.1083 Validation Accuracy: 0.560200\n",
      "Epoch 17, CIFAR-10 Batch 2:  Loss:     0.7787 Validation Accuracy: 0.559600\n",
      "Epoch 17, CIFAR-10 Batch 3:  Loss:     0.5897 Validation Accuracy: 0.559200\n",
      "Epoch 17, CIFAR-10 Batch 4:  Loss:     0.8848 Validation Accuracy: 0.560400\n",
      "Epoch 17, CIFAR-10 Batch 5:  Loss:     0.7961 Validation Accuracy: 0.560400\n",
      "Epoch 18, CIFAR-10 Batch 1:  Loss:     1.0652 Validation Accuracy: 0.560000\n",
      "Epoch 18, CIFAR-10 Batch 2:  Loss:     0.7548 Validation Accuracy: 0.559600\n",
      "Epoch 18, CIFAR-10 Batch 3:  Loss:     0.6004 Validation Accuracy: 0.560200\n",
      "Epoch 18, CIFAR-10 Batch 4:  Loss:     0.8790 Validation Accuracy: 0.560600\n",
      "Epoch 18, CIFAR-10 Batch 5:  Loss:     0.7903 Validation Accuracy: 0.561200\n",
      "Epoch 19, CIFAR-10 Batch 1:  Loss:     1.0816 Validation Accuracy: 0.554200\n",
      "Epoch 19, CIFAR-10 Batch 2:  Loss:     0.7213 Validation Accuracy: 0.559800\n",
      "Epoch 19, CIFAR-10 Batch 3:  Loss:     0.5817 Validation Accuracy: 0.558000\n",
      "Epoch 19, CIFAR-10 Batch 4:  Loss:     0.8519 Validation Accuracy: 0.561200\n",
      "Epoch 19, CIFAR-10 Batch 5:  Loss:     0.7826 Validation Accuracy: 0.565600\n",
      "Epoch 20, CIFAR-10 Batch 1:  Loss:     1.0466 Validation Accuracy: 0.559400\n",
      "Epoch 20, CIFAR-10 Batch 2:  Loss:     0.7288 Validation Accuracy: 0.564200\n",
      "Epoch 20, CIFAR-10 Batch 3:  Loss:     0.5733 Validation Accuracy: 0.559200\n",
      "Epoch 20, CIFAR-10 Batch 4:  Loss:     0.8250 Validation Accuracy: 0.565000\n",
      "Epoch 20, CIFAR-10 Batch 5:  Loss:     0.7539 Validation Accuracy: 0.567400\n",
      "Epoch 21, CIFAR-10 Batch 1:  Loss:     1.0228 Validation Accuracy: 0.561800\n",
      "Epoch 21, CIFAR-10 Batch 2:  Loss:     0.6954 Validation Accuracy: 0.566400\n",
      "Epoch 21, CIFAR-10 Batch 3:  Loss:     0.5628 Validation Accuracy: 0.564000\n",
      "Epoch 21, CIFAR-10 Batch 4:  Loss:     0.8116 Validation Accuracy: 0.559600\n",
      "Epoch 21, CIFAR-10 Batch 5:  Loss:     0.7439 Validation Accuracy: 0.564600\n",
      "Epoch 22, CIFAR-10 Batch 1:  Loss:     1.0023 Validation Accuracy: 0.564200\n",
      "Epoch 22, CIFAR-10 Batch 2:  Loss:     0.6773 Validation Accuracy: 0.568000\n",
      "Epoch 22, CIFAR-10 Batch 3:  Loss:     0.5565 Validation Accuracy: 0.567600\n",
      "Epoch 22, CIFAR-10 Batch 4:  Loss:     0.7866 Validation Accuracy: 0.563600\n",
      "Epoch 22, CIFAR-10 Batch 5:  Loss:     0.7319 Validation Accuracy: 0.561800\n",
      "Epoch 23, CIFAR-10 Batch 1:  Loss:     0.9855 Validation Accuracy: 0.562000\n",
      "Epoch 23, CIFAR-10 Batch 2:  Loss:     0.6479 Validation Accuracy: 0.565600\n",
      "Epoch 23, CIFAR-10 Batch 3:  Loss:     0.5454 Validation Accuracy: 0.566600\n",
      "Epoch 23, CIFAR-10 Batch 4:  Loss:     0.7797 Validation Accuracy: 0.564200\n",
      "Epoch 23, CIFAR-10 Batch 5:  Loss:     0.7136 Validation Accuracy: 0.565600\n",
      "Epoch 24, CIFAR-10 Batch 1:  Loss:     0.9589 Validation Accuracy: 0.563200\n",
      "Epoch 24, CIFAR-10 Batch 2:  Loss:     0.6341 Validation Accuracy: 0.568800\n",
      "Epoch 24, CIFAR-10 Batch 3:  Loss:     0.5310 Validation Accuracy: 0.573000\n",
      "Epoch 24, CIFAR-10 Batch 4:  Loss:     0.7550 Validation Accuracy: 0.568400\n",
      "Epoch 24, CIFAR-10 Batch 5:  Loss:     0.7141 Validation Accuracy: 0.565000\n",
      "Epoch 25, CIFAR-10 Batch 1:  Loss:     0.9533 Validation Accuracy: 0.558800\n",
      "Epoch 25, CIFAR-10 Batch 2:  Loss:     0.6228 Validation Accuracy: 0.572200\n",
      "Epoch 25, CIFAR-10 Batch 3:  Loss:     0.5403 Validation Accuracy: 0.571000\n",
      "Epoch 25, CIFAR-10 Batch 4:  Loss:     0.7324 Validation Accuracy: 0.568400\n",
      "Epoch 25, CIFAR-10 Batch 5:  Loss:     0.6842 Validation Accuracy: 0.568600\n",
      "Epoch 26, CIFAR-10 Batch 1:  Loss:     0.9115 Validation Accuracy: 0.562800\n",
      "Epoch 26, CIFAR-10 Batch 2:  Loss:     0.6174 Validation Accuracy: 0.570200\n",
      "Epoch 26, CIFAR-10 Batch 3:  Loss:     0.5282 Validation Accuracy: 0.572000\n",
      "Epoch 26, CIFAR-10 Batch 4:  Loss:     0.7195 Validation Accuracy: 0.569400\n",
      "Epoch 26, CIFAR-10 Batch 5:  Loss:     0.6745 Validation Accuracy: 0.569200\n",
      "Epoch 27, CIFAR-10 Batch 1:  Loss:     0.9162 Validation Accuracy: 0.562200\n",
      "Epoch 27, CIFAR-10 Batch 2:  Loss:     0.5808 Validation Accuracy: 0.575600\n",
      "Epoch 27, CIFAR-10 Batch 3:  Loss:     0.5385 Validation Accuracy: 0.578200\n",
      "Epoch 27, CIFAR-10 Batch 4:  Loss:     0.7042 Validation Accuracy: 0.570400\n",
      "Epoch 27, CIFAR-10 Batch 5:  Loss:     0.6675 Validation Accuracy: 0.572600\n",
      "Epoch 28, CIFAR-10 Batch 1:  Loss:     0.8811 Validation Accuracy: 0.563600\n",
      "Epoch 28, CIFAR-10 Batch 2:  Loss:     0.5667 Validation Accuracy: 0.578600\n",
      "Epoch 28, CIFAR-10 Batch 3:  Loss:     0.5298 Validation Accuracy: 0.576400\n",
      "Epoch 28, CIFAR-10 Batch 4:  Loss:     0.6814 Validation Accuracy: 0.573200\n",
      "Epoch 28, CIFAR-10 Batch 5:  Loss:     0.6571 Validation Accuracy: 0.569200\n",
      "Epoch 29, CIFAR-10 Batch 1:  Loss:     0.8555 Validation Accuracy: 0.558800\n",
      "Epoch 29, CIFAR-10 Batch 2:  Loss:     0.5848 Validation Accuracy: 0.572000\n",
      "Epoch 29, CIFAR-10 Batch 3:  Loss:     0.5305 Validation Accuracy: 0.579200\n",
      "Epoch 29, CIFAR-10 Batch 4:  Loss:     0.6800 Validation Accuracy: 0.569400\n",
      "Epoch 29, CIFAR-10 Batch 5:  Loss:     0.6437 Validation Accuracy: 0.571000\n",
      "Epoch 30, CIFAR-10 Batch 1:  Loss:     0.8210 Validation Accuracy: 0.565800\n",
      "Epoch 30, CIFAR-10 Batch 2:  Loss:     0.5386 Validation Accuracy: 0.576000\n",
      "Epoch 30, CIFAR-10 Batch 3:  Loss:     0.5274 Validation Accuracy: 0.581400\n",
      "Epoch 30, CIFAR-10 Batch 4:  Loss:     0.6590 Validation Accuracy: 0.573200\n",
      "Epoch 30, CIFAR-10 Batch 5:  Loss:     0.6530 Validation Accuracy: 0.574200\n"
=======
      "Epoch  1, CIFAR-10 Batch 1:  Loss:     2.1830 Validation Accuracy: 0.224400\n",
      "Epoch  1, CIFAR-10 Batch 2:  Loss:     1.9627 Validation Accuracy: 0.279600\n",
      "Epoch  1, CIFAR-10 Batch 3:  Loss:     1.8033 Validation Accuracy: 0.334400\n",
      "Epoch  1, CIFAR-10 Batch 4:  Loss:     1.7556 Validation Accuracy: 0.372600\n",
      "Epoch  1, CIFAR-10 Batch 5:  Loss:     1.7267 Validation Accuracy: 0.385000\n",
      "Epoch  2, CIFAR-10 Batch 1:  Loss:     1.9604 Validation Accuracy: 0.406200\n",
      "Epoch  2, CIFAR-10 Batch 2:  Loss:     1.5126 Validation Accuracy: 0.421400\n",
      "Epoch  2, CIFAR-10 Batch 3:  Loss:     1.4379 Validation Accuracy: 0.410200\n",
      "Epoch  2, CIFAR-10 Batch 4:  Loss:     1.4625 Validation Accuracy: 0.438600\n",
      "Epoch  2, CIFAR-10 Batch 5:  Loss:     1.4932 Validation Accuracy: 0.454200\n",
      "Epoch  3, CIFAR-10 Batch 1:  Loss:     1.7088 Validation Accuracy: 0.451800\n",
      "Epoch  3, CIFAR-10 Batch 2:  Loss:     1.2487 Validation Accuracy: 0.460000\n",
      "Epoch  3, CIFAR-10 Batch 3:  Loss:     1.2458 Validation Accuracy: 0.471400\n",
      "Epoch  3, CIFAR-10 Batch 4:  Loss:     1.3555 Validation Accuracy: 0.489200\n",
      "Epoch  3, CIFAR-10 Batch 5:  Loss:     1.3151 Validation Accuracy: 0.496800\n",
      "Epoch  4, CIFAR-10 Batch 1:  Loss:     1.5321 Validation Accuracy: 0.488800\n",
      "Epoch  4, CIFAR-10 Batch 2:  Loss:     1.1015 Validation Accuracy: 0.490000\n",
      "Epoch  4, CIFAR-10 Batch 3:  Loss:     1.0760 Validation Accuracy: 0.505400\n",
      "Epoch  4, CIFAR-10 Batch 4:  Loss:     1.2660 Validation Accuracy: 0.512600\n",
      "Epoch  4, CIFAR-10 Batch 5:  Loss:     1.1673 Validation Accuracy: 0.523600\n",
      "Epoch  5, CIFAR-10 Batch 1:  Loss:     1.4474 Validation Accuracy: 0.517200\n",
      "Epoch  5, CIFAR-10 Batch 2:  Loss:     1.0047 Validation Accuracy: 0.501000\n",
      "Epoch  5, CIFAR-10 Batch 3:  Loss:     0.9692 Validation Accuracy: 0.522000\n",
      "Epoch  5, CIFAR-10 Batch 4:  Loss:     1.1947 Validation Accuracy: 0.530600\n",
      "Epoch  5, CIFAR-10 Batch 5:  Loss:     1.0885 Validation Accuracy: 0.532800\n",
      "Epoch  6, CIFAR-10 Batch 1:  Loss:     1.3817 Validation Accuracy: 0.532000\n",
      "Epoch  6, CIFAR-10 Batch 2:  Loss:     0.9429 Validation Accuracy: 0.508200\n",
      "Epoch  6, CIFAR-10 Batch 3:  Loss:     0.8995 Validation Accuracy: 0.533800\n",
      "Epoch  6, CIFAR-10 Batch 4:  Loss:     1.1424 Validation Accuracy: 0.538000\n",
      "Epoch  6, CIFAR-10 Batch 5:  Loss:     1.0203 Validation Accuracy: 0.543000\n",
      "Epoch  7, CIFAR-10 Batch 1:  Loss:     1.3271 Validation Accuracy: 0.537400\n",
      "Epoch  7, CIFAR-10 Batch 2:  Loss:     0.8998 Validation Accuracy: 0.522600\n",
      "Epoch  7, CIFAR-10 Batch 3:  Loss:     0.8428 Validation Accuracy: 0.539800\n",
      "Epoch  7, CIFAR-10 Batch 4:  Loss:     1.0939 Validation Accuracy: 0.545200\n",
      "Epoch  7, CIFAR-10 Batch 5:  Loss:     0.9690 Validation Accuracy: 0.548800\n",
      "Epoch  8, CIFAR-10 Batch 1:  Loss:     1.2828 Validation Accuracy: 0.545000\n",
      "Epoch  8, CIFAR-10 Batch 2:  Loss:     0.8623 Validation Accuracy: 0.531600\n",
      "Epoch  8, CIFAR-10 Batch 3:  Loss:     0.7917 Validation Accuracy: 0.546400\n",
      "Epoch  8, CIFAR-10 Batch 4:  Loss:     1.0490 Validation Accuracy: 0.550400\n",
      "Epoch  8, CIFAR-10 Batch 5:  Loss:     0.9253 Validation Accuracy: 0.552600\n",
      "Epoch  9, CIFAR-10 Batch 1:  Loss:     1.2531 Validation Accuracy: 0.552600\n",
      "Epoch  9, CIFAR-10 Batch 2:  Loss:     0.8321 Validation Accuracy: 0.537400\n",
      "Epoch  9, CIFAR-10 Batch 3:  Loss:     0.7584 Validation Accuracy: 0.551200\n",
      "Epoch  9, CIFAR-10 Batch 4:  Loss:     1.0121 Validation Accuracy: 0.552200\n",
      "Epoch  9, CIFAR-10 Batch 5:  Loss:     0.8853 Validation Accuracy: 0.558400\n",
      "Epoch 10, CIFAR-10 Batch 1:  Loss:     1.2186 Validation Accuracy: 0.555000\n",
      "Epoch 10, CIFAR-10 Batch 2:  Loss:     0.7954 Validation Accuracy: 0.544000\n",
      "Epoch 10, CIFAR-10 Batch 3:  Loss:     0.7239 Validation Accuracy: 0.550600\n",
      "Epoch 10, CIFAR-10 Batch 4:  Loss:     0.9713 Validation Accuracy: 0.553800\n",
      "Epoch 10, CIFAR-10 Batch 5:  Loss:     0.8520 Validation Accuracy: 0.561400\n",
      "Epoch 11, CIFAR-10 Batch 1:  Loss:     1.1933 Validation Accuracy: 0.558800\n",
      "Epoch 11, CIFAR-10 Batch 2:  Loss:     0.7672 Validation Accuracy: 0.545200\n",
      "Epoch 11, CIFAR-10 Batch 3:  Loss:     0.7039 Validation Accuracy: 0.552200\n",
      "Epoch 11, CIFAR-10 Batch 4:  Loss:     0.9378 Validation Accuracy: 0.555000\n",
      "Epoch 11, CIFAR-10 Batch 5:  Loss:     0.8209 Validation Accuracy: 0.563600\n",
      "Epoch 12, CIFAR-10 Batch 1:  Loss:     1.1653 Validation Accuracy: 0.562400\n",
      "Epoch 12, CIFAR-10 Batch 2:  Loss:     0.7463 Validation Accuracy: 0.551800\n",
      "Epoch 12, CIFAR-10 Batch 3:  Loss:     0.6864 Validation Accuracy: 0.552200\n",
      "Epoch 12, CIFAR-10 Batch 4:  Loss:     0.9037 Validation Accuracy: 0.557800\n",
      "Epoch 12, CIFAR-10 Batch 5:  Loss:     0.7942 Validation Accuracy: 0.566000\n",
      "Epoch 13, CIFAR-10 Batch 1:  Loss:     1.1421 Validation Accuracy: 0.567200\n",
      "Epoch 13, CIFAR-10 Batch 2:  Loss:     0.7243 Validation Accuracy: 0.555400\n",
      "Epoch 13, CIFAR-10 Batch 3:  Loss:     0.6660 Validation Accuracy: 0.554600\n",
      "Epoch 13, CIFAR-10 Batch 4:  Loss:     0.8722 Validation Accuracy: 0.563200\n",
      "Epoch 13, CIFAR-10 Batch 5:  Loss:     0.7646 Validation Accuracy: 0.568800\n",
      "Epoch 14, CIFAR-10 Batch 1:  Loss:     1.1134 Validation Accuracy: 0.570800\n",
      "Epoch 14, CIFAR-10 Batch 2:  Loss:     0.7003 Validation Accuracy: 0.556800\n",
      "Epoch 14, CIFAR-10 Batch 3:  Loss:     0.6479 Validation Accuracy: 0.559000\n",
      "Epoch 14, CIFAR-10 Batch 4:  Loss:     0.8449 Validation Accuracy: 0.565600\n",
      "Epoch 14, CIFAR-10 Batch 5:  Loss:     0.7382 Validation Accuracy: 0.571400\n",
      "Epoch 15, CIFAR-10 Batch 1:  Loss:     1.0873 Validation Accuracy: 0.571800\n",
      "Epoch 15, CIFAR-10 Batch 2:  Loss:     0.6735 Validation Accuracy: 0.559600\n",
      "Epoch 15, CIFAR-10 Batch 3:  Loss:     0.6292 Validation Accuracy: 0.560000\n",
      "Epoch 15, CIFAR-10 Batch 4:  Loss:     0.8225 Validation Accuracy: 0.572600\n",
      "Epoch 15, CIFAR-10 Batch 5:  Loss:     0.7167 Validation Accuracy: 0.572000\n",
      "Epoch 16, CIFAR-10 Batch 1:  Loss:     1.0586 Validation Accuracy: 0.574000\n",
      "Epoch 16, CIFAR-10 Batch 2:  Loss:     0.6576 Validation Accuracy: 0.564000\n",
      "Epoch 16, CIFAR-10 Batch 3:  Loss:     0.6119 Validation Accuracy: 0.562200\n",
      "Epoch 16, CIFAR-10 Batch 4:  Loss:     0.7960 Validation Accuracy: 0.572200\n",
      "Epoch 16, CIFAR-10 Batch 5:  Loss:     0.6992 Validation Accuracy: 0.570600\n",
      "Epoch 17, CIFAR-10 Batch 1:  Loss:     1.0377 Validation Accuracy: 0.576400\n",
      "Epoch 17, CIFAR-10 Batch 2:  Loss:     0.6373 Validation Accuracy: 0.565800\n",
      "Epoch 17, CIFAR-10 Batch 3:  Loss:     0.5964 Validation Accuracy: 0.565600\n",
      "Epoch 17, CIFAR-10 Batch 4:  Loss:     0.7797 Validation Accuracy: 0.573000\n",
      "Epoch 17, CIFAR-10 Batch 5:  Loss:     0.6768 Validation Accuracy: 0.573200\n",
      "Epoch 18, CIFAR-10 Batch 1:  Loss:     1.0149 Validation Accuracy: 0.576800\n",
      "Epoch 18, CIFAR-10 Batch 2:  Loss:     0.6208 Validation Accuracy: 0.567800\n",
      "Epoch 18, CIFAR-10 Batch 3:  Loss:     0.5839 Validation Accuracy: 0.567400\n",
      "Epoch 18, CIFAR-10 Batch 4:  Loss:     0.7628 Validation Accuracy: 0.574800\n",
      "Epoch 18, CIFAR-10 Batch 5:  Loss:     0.6625 Validation Accuracy: 0.576600\n",
      "Epoch 19, CIFAR-10 Batch 1:  Loss:     0.9895 Validation Accuracy: 0.578800\n",
      "Epoch 19, CIFAR-10 Batch 2:  Loss:     0.6040 Validation Accuracy: 0.569400\n",
      "Epoch 19, CIFAR-10 Batch 3:  Loss:     0.5715 Validation Accuracy: 0.572600\n",
      "Epoch 19, CIFAR-10 Batch 4:  Loss:     0.7466 Validation Accuracy: 0.576200\n",
      "Epoch 19, CIFAR-10 Batch 5:  Loss:     0.6430 Validation Accuracy: 0.576400\n",
      "Epoch 20, CIFAR-10 Batch 1:  Loss:     0.9766 Validation Accuracy: 0.580800\n",
      "Epoch 20, CIFAR-10 Batch 2:  Loss:     0.5899 Validation Accuracy: 0.570400\n",
      "Epoch 20, CIFAR-10 Batch 3:  Loss:     0.5622 Validation Accuracy: 0.573000\n",
      "Epoch 20, CIFAR-10 Batch 4:  Loss:     0.7308 Validation Accuracy: 0.577000\n",
      "Epoch 20, CIFAR-10 Batch 5:  Loss:     0.6295 Validation Accuracy: 0.579400\n",
      "Epoch 21, CIFAR-10 Batch 1:  Loss:     0.9563 Validation Accuracy: 0.580600\n",
      "Epoch 21, CIFAR-10 Batch 2:  Loss:     0.5744 Validation Accuracy: 0.571000\n",
      "Epoch 21, CIFAR-10 Batch 3:  Loss:     0.5518 Validation Accuracy: 0.573800\n",
      "Epoch 21, CIFAR-10 Batch 4:  Loss:     0.7130 Validation Accuracy: 0.578000\n",
      "Epoch 21, CIFAR-10 Batch 5:  Loss:     0.6181 Validation Accuracy: 0.576800\n",
      "Epoch 22, CIFAR-10 Batch 1:  Loss:     0.9414 Validation Accuracy: 0.581800\n",
      "Epoch 22, CIFAR-10 Batch 2:  Loss:     0.5620 Validation Accuracy: 0.573000\n",
      "Epoch 22, CIFAR-10 Batch 3:  Loss:     0.5434 Validation Accuracy: 0.575600\n",
      "Epoch 22, CIFAR-10 Batch 4:  Loss:     0.6936 Validation Accuracy: 0.579200\n",
      "Epoch 22, CIFAR-10 Batch 5:  Loss:     0.6059 Validation Accuracy: 0.579200\n",
      "Epoch 23, CIFAR-10 Batch 1:  Loss:     0.9259 Validation Accuracy: 0.584000\n",
      "Epoch 23, CIFAR-10 Batch 2:  Loss:     0.5468 Validation Accuracy: 0.573200\n",
      "Epoch 23, CIFAR-10 Batch 3:  Loss:     0.5321 Validation Accuracy: 0.578000\n",
      "Epoch 23, CIFAR-10 Batch 4:  Loss:     0.6824 Validation Accuracy: 0.578000\n",
      "Epoch 23, CIFAR-10 Batch 5:  Loss:     0.5932 Validation Accuracy: 0.576800\n",
      "Epoch 24, CIFAR-10 Batch 1:  Loss:     0.9093 Validation Accuracy: 0.583000\n",
      "Epoch 24, CIFAR-10 Batch 2:  Loss:     0.5336 Validation Accuracy: 0.573400\n",
      "Epoch 24, CIFAR-10 Batch 3:  Loss:     0.5234 Validation Accuracy: 0.578600\n",
      "Epoch 24, CIFAR-10 Batch 4:  Loss:     0.6656 Validation Accuracy: 0.576800\n",
      "Epoch 24, CIFAR-10 Batch 5:  Loss:     0.5830 Validation Accuracy: 0.577000\n",
      "Epoch 25, CIFAR-10 Batch 1:  Loss:     0.8958 Validation Accuracy: 0.582600\n",
      "Epoch 25, CIFAR-10 Batch 2:  Loss:     0.5221 Validation Accuracy: 0.575000\n",
      "Epoch 25, CIFAR-10 Batch 3:  Loss:     0.5119 Validation Accuracy: 0.579400\n",
      "Epoch 25, CIFAR-10 Batch 4:  Loss:     0.6506 Validation Accuracy: 0.578400\n",
      "Epoch 25, CIFAR-10 Batch 5:  Loss:     0.5717 Validation Accuracy: 0.579000\n",
      "Epoch 26, CIFAR-10 Batch 1:  Loss:     0.8833 Validation Accuracy: 0.584600\n",
      "Epoch 26, CIFAR-10 Batch 2:  Loss:     0.5124 Validation Accuracy: 0.575800\n",
      "Epoch 26, CIFAR-10 Batch 3:  Loss:     0.5036 Validation Accuracy: 0.581400\n",
      "Epoch 26, CIFAR-10 Batch 4:  Loss:     0.6370 Validation Accuracy: 0.578800\n",
      "Epoch 26, CIFAR-10 Batch 5:  Loss:     0.5603 Validation Accuracy: 0.579400\n",
      "Epoch 27, CIFAR-10 Batch 1:  Loss:     0.8735 Validation Accuracy: 0.582400\n",
      "Epoch 27, CIFAR-10 Batch 2:  Loss:     0.5017 Validation Accuracy: 0.576600\n",
      "Epoch 27, CIFAR-10 Batch 3:  Loss:     0.4958 Validation Accuracy: 0.583200\n",
      "Epoch 27, CIFAR-10 Batch 4:  Loss:     0.6221 Validation Accuracy: 0.580600\n",
      "Epoch 27, CIFAR-10 Batch 5:  Loss:     0.5475 Validation Accuracy: 0.579000\n",
      "Epoch 28, CIFAR-10 Batch 1:  Loss:     0.8637 Validation Accuracy: 0.585200\n",
      "Epoch 28, CIFAR-10 Batch 2:  Loss:     0.4904 Validation Accuracy: 0.577600\n",
      "Epoch 28, CIFAR-10 Batch 3:  Loss:     0.4842 Validation Accuracy: 0.585200\n",
      "Epoch 28, CIFAR-10 Batch 4:  Loss:     0.6079 Validation Accuracy: 0.581600\n",
      "Epoch 28, CIFAR-10 Batch 5:  Loss:     0.5385 Validation Accuracy: 0.578800\n",
      "Epoch 29, CIFAR-10 Batch 1:  Loss:     0.8511 Validation Accuracy: 0.584200\n",
      "Epoch 29, CIFAR-10 Batch 2:  Loss:     0.4823 Validation Accuracy: 0.577400\n",
      "Epoch 29, CIFAR-10 Batch 3:  Loss:     0.4745 Validation Accuracy: 0.585600\n",
      "Epoch 29, CIFAR-10 Batch 4:  Loss:     0.6008 Validation Accuracy: 0.583600\n",
      "Epoch 29, CIFAR-10 Batch 5:  Loss:     0.5296 Validation Accuracy: 0.579600\n",
      "Epoch 30, CIFAR-10 Batch 1:  Loss:     0.8429 Validation Accuracy: 0.583400\n",
      "Epoch 30, CIFAR-10 Batch 2:  Loss:     0.4756 Validation Accuracy: 0.578000\n",
      "Epoch 30, CIFAR-10 Batch 3:  Loss:     0.4651 Validation Accuracy: 0.587000\n",
      "Epoch 30, CIFAR-10 Batch 4:  Loss:     0.5868 Validation Accuracy: 0.583000\n",
      "Epoch 30, CIFAR-10 Batch 5:  Loss:     0.5217 Validation Accuracy: 0.581600\n"
>>>>>>> 5f683f794f52c7084a4bc50d110a5c9993d265d3
     ]
    }
   ],
   "source": [
    "\"\"\"\n",
    "DON'T MODIFY ANYTHING IN THIS CELL\n",
    "\"\"\"\n",
    "save_model_path = './image_classification'\n",
    "\n",
    "print('Training...')\n",
    "with tf.Session() as sess:\n",
    "    # Initializing the variables\n",
    "    sess.run(tf.global_variables_initializer())\n",
    "    \n",
    "    # Training cycle\n",
    "    for epoch in range(epochs):\n",
    "        # Loop over all batches\n",
    "        n_batches = 5\n",
    "        for batch_i in range(1, n_batches + 1):\n",
    "            for batch_features, batch_labels in helper.load_preprocess_training_batch(batch_i, batch_size):\n",
    "                train_neural_network(sess, optimizer, keep_probability, batch_features, batch_labels)\n",
    "            print('Epoch {:>2}, CIFAR-10 Batch {}:  '.format(epoch + 1, batch_i), end='')\n",
    "            print_stats(sess, batch_features, batch_labels, cost, accuracy)\n",
    "            \n",
    "    # Save Model\n",
    "    saver = tf.train.Saver()\n",
    "    save_path = saver.save(sess, save_model_path)"
   ]
  },
  {
   "cell_type": "markdown",
   "metadata": {
    "deletable": true,
    "editable": true
   },
   "source": [
    "# Checkpoint\n",
    "The model has been saved to disk.\n",
    "## Test Model\n",
    "Test your model against the test dataset.  This will be your final accuracy. You should have an accuracy greater than 50%. If you don't, keep tweaking the model architecture and parameters."
   ]
  },
  {
   "cell_type": "code",
<<<<<<< HEAD
   "execution_count": 15,
=======
   "execution_count": 43,
>>>>>>> 5f683f794f52c7084a4bc50d110a5c9993d265d3
   "metadata": {
    "collapsed": false,
    "deletable": true,
    "editable": true
   },
   "outputs": [
    {
     "name": "stdout",
     "output_type": "stream",
     "text": [
<<<<<<< HEAD
      "Testing Accuracy: 0.5744140625\n",
=======
      "Testing Accuracy: 0.59052734375\n",
>>>>>>> 5f683f794f52c7084a4bc50d110a5c9993d265d3
      "\n"
     ]
    },
    {
     "data": {
<<<<<<< HEAD
      "image/png": "iVBORw0KGgoAAAANSUhEUgAAAscAAAJ/CAYAAACUb342AAAABHNCSVQICAgIfAhkiAAAAAlwSFlz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\nq2iilEMAAAAASUVORK5CYII=\n",
      "text/plain": [
       "<matplotlib.figure.Figure at 0x7f62135dbeb8>"
=======
      "image/png": "iVBORw0KGgoAAAANSUhEUgAAAscAAAJ/CAYAAACUb342AAAABHNCSVQICAgIfAhkiAAAAAlwSFlz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\nWEREREQk+v9gR8DuFQcyrQAAAABJRU5ErkJggg==\n",
      "text/plain": [
       "<matplotlib.figure.Figure at 0x7fbd0e61ada0>"
>>>>>>> 5f683f794f52c7084a4bc50d110a5c9993d265d3
      ]
     },
     "metadata": {
      "image/png": {
       "height": 319,
       "width": 355
      }
     },
     "output_type": "display_data"
    }
   ],
   "source": [
    "\"\"\"\n",
    "DON'T MODIFY ANYTHING IN THIS CELL\n",
    "\"\"\"\n",
    "%matplotlib inline\n",
    "%config InlineBackend.figure_format = 'retina'\n",
    "\n",
    "import tensorflow as tf\n",
    "import pickle\n",
    "import helper\n",
    "import random\n",
    "\n",
    "# Set batch size if not already set\n",
    "try:\n",
    "    if batch_size:\n",
    "        pass\n",
    "except NameError:\n",
    "    batch_size = 64\n",
    "\n",
    "save_model_path = './image_classification'\n",
    "n_samples = 4\n",
    "top_n_predictions = 3\n",
    "\n",
    "def test_model():\n",
    "    \"\"\"\n",
    "    Test the saved model against the test dataset\n",
    "    \"\"\"\n",
    "\n",
    "    test_features, test_labels = pickle.load(open('preprocess_training.p', mode='rb'))\n",
    "    loaded_graph = tf.Graph()\n",
    "\n",
    "    with tf.Session(graph=loaded_graph) as sess:\n",
    "        # Load model\n",
    "        loader = tf.train.import_meta_graph(save_model_path + '.meta')\n",
    "        loader.restore(sess, save_model_path)\n",
    "\n",
    "        # Get Tensors from loaded model\n",
    "        loaded_x = loaded_graph.get_tensor_by_name('x:0')\n",
    "        loaded_y = loaded_graph.get_tensor_by_name('y:0')\n",
    "        loaded_keep_prob = loaded_graph.get_tensor_by_name('keep_prob:0')\n",
    "        loaded_logits = loaded_graph.get_tensor_by_name('logits:0')\n",
    "        loaded_acc = loaded_graph.get_tensor_by_name('accuracy:0')\n",
    "        \n",
    "        # Get accuracy in batches for memory limitations\n",
    "        test_batch_acc_total = 0\n",
    "        test_batch_count = 0\n",
    "        \n",
    "        for train_feature_batch, train_label_batch in helper.batch_features_labels(test_features, test_labels, batch_size):\n",
    "            test_batch_acc_total += sess.run(\n",
    "                loaded_acc,\n",
    "                feed_dict={loaded_x: train_feature_batch, loaded_y: train_label_batch, loaded_keep_prob: 1.0})\n",
    "            test_batch_count += 1\n",
    "\n",
    "        print('Testing Accuracy: {}\\n'.format(test_batch_acc_total/test_batch_count))\n",
    "\n",
    "        # Print Random Samples\n",
    "        random_test_features, random_test_labels = tuple(zip(*random.sample(list(zip(test_features, test_labels)), n_samples)))\n",
    "        random_test_predictions = sess.run(\n",
    "            tf.nn.top_k(tf.nn.softmax(loaded_logits), top_n_predictions),\n",
    "            feed_dict={loaded_x: random_test_features, loaded_y: random_test_labels, loaded_keep_prob: 1.0})\n",
    "        helper.display_image_predictions(random_test_features, random_test_labels, random_test_predictions)\n",
    "\n",
    "\n",
    "test_model()"
   ]
  },
  {
   "cell_type": "markdown",
   "metadata": {
    "deletable": true,
    "editable": true
   },
   "source": [
    "## Why 50-70% Accuracy?\n",
    "You might be wondering why you can't get an accuracy any higher. First things first, 50% isn't bad for a simple CNN.  Pure guessing would get you 10% accuracy. However, you might notice people are getting scores [well above 70%](http://rodrigob.github.io/are_we_there_yet/build/classification_datasets_results.html#43494641522d3130).  That's because we haven't taught you all there is to know about neural networks. We still need to cover a few more techniques.\n",
    "## Submitting This Project\n",
    "When submitting this project, make sure to run all the cells before saving the notebook.  Save the notebook file as \"dlnd_image_classification.ipynb\" and save it as a HTML file under \"File\" -> \"Download as\".  Include the \"helper.py\" and \"problem_unittests.py\" files in your submission."
   ]
  },
  {
   "cell_type": "code",
   "execution_count": null,
   "metadata": {
<<<<<<< HEAD
    "collapsed": true,
    "deletable": true,
    "editable": true
=======
    "collapsed": true
>>>>>>> 5f683f794f52c7084a4bc50d110a5c9993d265d3
   },
   "outputs": [],
   "source": []
  }
 ],
 "metadata": {
  "anaconda-cloud": {},
  "kernelspec": {
   "display_name": "Python 3",
   "language": "python",
   "name": "python3"
  },
  "language_info": {
   "codemirror_mode": {
    "name": "ipython",
    "version": 3
   },
   "file_extension": ".py",
   "mimetype": "text/x-python",
   "name": "python",
   "nbconvert_exporter": "python",
   "pygments_lexer": "ipython3",
   "version": "3.5.2"
  },
  "widgets": {
   "state": {},
   "version": "1.1.2"
  }
 },
 "nbformat": 4,
 "nbformat_minor": 0
}
